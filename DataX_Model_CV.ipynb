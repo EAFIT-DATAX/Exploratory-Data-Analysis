{
  "nbformat": 4,
  "nbformat_minor": 0,
  "metadata": {
    "colab": {
      "provenance": []
    },
    "kernelspec": {
      "name": "python3",
      "display_name": "Python 3"
    },
    "language_info": {
      "name": "python"
    }
  },
  "cells": [
    {
      "cell_type": "code",
      "execution_count": 1,
      "metadata": {
        "id": "rRCBD0QxFjVb"
      },
      "outputs": [],
      "source": [
        "import pandas as pd\n",
        "import numpy as np\n",
        "from sklearn.model_selection import train_test_split, cross_val_score, cross_validate, KFold\n",
        "from sklearn.linear_model import LinearRegression\n",
        "from sklearn.ensemble import RandomForestRegressor\n",
        "from sklearn.metrics import mean_squared_error, r2_score, make_scorer"
      ]
    },
    {
      "cell_type": "code",
      "source": [
        "# Cargar datos\n",
        "data = pd.read_csv('data_100k.csv')\n",
        "data['request_type'] = data['request_type'].str.strip()\n",
        "\n",
        "# Verificar valores únicos en 'request_type'\n",
        "print(\"\nUnique values request_type:\")\n",
        "print(data['request_type'].unique())\n",
        "\n",
        "# One-hot encoding y conversion a tipo categorico\n",
        "data['request_type'] = data['request_type'].astype('category')\n",
        "data['request_type_debt'] = (data['request_type'] == 'debt').astype(int)\n",
        "data['request_type_existence'] = (data['request_type'] == 'existence').astype(int)\n",
        "data['request_type_payment'] = (data['request_type'] == 'payment').astype(int)"
      ],
      "metadata": {
        "colab": {
          "base_uri": "https://localhost:8080/"
        },
        "id": "o9HjKyzmFq92",
        "outputId": "8d19a798-8b28-4828-9444-2ed29de6492e"
      },
      "execution_count": 3,
      "outputs": [
        {
          "output_type": "stream",
          "name": "stdout",
          "text": [
            "Unique values request_type:\n",
            "['payment' 'existence' 'debt']\n"
          ]
        }
      ]
    },
    {
      "cell_type": "code",
      "source": [
        "features = ['total_quantity', 'business_quantity', 'personal_quantity', 'request_type_debt', 'request_type_existence', 'request_type_payment']\n",
        "target = 'total_time'\n",
        "\n",
        "X = data[features]\n",
        "y = data[target]\n",
        "\n",
        "scoring = {\n",
        "    'MSE': make_scorer(mean_squared_error),\n",
        "    'R2': make_scorer(r2_score)\n",
        "}\n",
        "\n",
        "# K-fold cross-validation con 5 particiones\n",
        "kf = KFold(n_splits=5, shuffle=True, random_state=42)"
      ],
      "metadata": {
        "id": "OjIfntV5F6B0"
      },
      "execution_count": 4,
      "outputs": []
    },
    {
      "cell_type": "code",
      "source": [
        "\n",
        "# Evaluación de regresión lineal usando cross-validation\n",
        "lin_reg = LinearRegression()\n",
        "cv_results_lin = cross_validate(lin_reg, X, y, cv=kf, scoring=scoring, return_train_score=True)\n",
        "\n",
        "print(\"\\nRegresión Lineal:\")\n",
        "print(f\"Entrenamiento - MSE: {np.mean(cv_results_lin['train_MSE'])}, R2: {np.mean(cv_results_lin['train_R2'])}\")\n",
        "print(f\"Validación - MSE: {np.mean(cv_results_lin['test_MSE'])}, R2: {np.mean(cv_results_lin['test_R2'])}\")"
      ],
      "metadata": {
        "colab": {
          "base_uri": "https://localhost:8080/"
        },
        "id": "EYjq7zHvGNws",
        "outputId": "5c54f922-fb37-431a-b6e3-a0f967e0868f"
      },
      "execution_count": 5,
      "outputs": [
        {
          "output_type": "stream",
          "name": "stdout",
          "text": [
            "\n",
            "Regresión Lineal:\n",
            "Entrenamiento - MSE: 1433.1214124346043, R2: 0.8969871003658083\n",
            "Validación - MSE: 1433.317501858252, R2: 0.8969602791580599\n"
          ]
        }
      ]
    },
    {
      "cell_type": "code",
      "source": [
        "# Evaluación de bosque aleatorio usando cross-validation\n",
        "rf_reg = RandomForestRegressor(n_estimators=100, random_state=42)\n",
        "cv_results_rf = cross_validate(rf_reg, X, y, cv=kf, scoring=scoring, return_train_score=True)\n",
        "\n",
        "print(\"\Bosque Aleatorio:\")\n",
        "print(f\"Entrenamiento - MSE: {np.mean(cv_results_rf['train_MSE'])}, R2: {np.mean(cv_results_rf['train_R2'])}\")\n",
        "print(f\"Validación - MSE: {np.mean(cv_results_rf['test_MSE'])}, R2: {np.mean(cv_results_rf['test_R2'])}\")"
      ],
      "metadata": {
        "colab": {
          "base_uri": "https://localhost:8080/"
        },
        "id": "CUSzceI-wA_f",
        "outputId": "4ae14f41-b0df-474b-83eb-cd0e41dacbf2"
      },
      "execution_count": 6,
      "outputs": [
        {
          "output_type": "stream",
          "name": "stdout",
          "text": [
            "\n",
            "Bosque Aleatorio:\n",
            "Entrenamiento - MSE: 758.9793733844816, R2: 0.9454442171819007\n",
            "Validación - MSE: 1882.8970107288133, R2: 0.8646366178933853\n"
          ]
        }
      ]
    }
  ]
}
